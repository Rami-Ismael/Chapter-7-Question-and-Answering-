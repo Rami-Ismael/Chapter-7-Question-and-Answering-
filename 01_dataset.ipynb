{
 "cells": [
  {
   "cell_type": "code",
   "execution_count": null,
   "metadata": {},
   "outputs": [],
   "source": [
    "#|default_exp core"
   ]
  },
  {
   "cell_type": "markdown",
   "metadata": {},
   "source": [
    "# Go through the Dataset\n",
    "> API Details"
   ]
  },
  {
   "cell_type": "code",
   "execution_count": null,
   "metadata": {},
   "outputs": [],
   "source": [
    "#|hide\n",
    "from nbdev.showdoc import *"
   ]
  },
  {
   "cell_type": "code",
   "execution_count": 4,
   "metadata": {},
   "outputs": [],
   "source": [
    "#|export\n",
    "from datasets import get_dataset_config_names\n",
    "from rich import print"
   ]
  },
  {
   "cell_type": "code",
   "execution_count": 5,
   "metadata": {},
   "outputs": [
    {
     "data": {
      "text/html": [
       "<pre style=\"white-space:pre;overflow-x:auto;line-height:normal;font-family:Menlo,'DejaVu Sans Mono',consolas,'Courier New',monospace\"><span style=\"font-weight: bold\">[</span><span style=\"color: #008000; text-decoration-color: #008000\">'books'</span>, <span style=\"color: #008000; text-decoration-color: #008000\">'electronics'</span>, <span style=\"color: #008000; text-decoration-color: #008000\">'grocery'</span>, <span style=\"color: #008000; text-decoration-color: #008000\">'movies'</span>, <span style=\"color: #008000; text-decoration-color: #008000\">'restaurants'</span>, <span style=\"color: #008000; text-decoration-color: #008000\">'tripadvisor'</span><span style=\"font-weight: bold\">]</span>\n",
       "</pre>\n"
      ],
      "text/plain": [
       "\u001b[1m[\u001b[0m\u001b[32m'books'\u001b[0m, \u001b[32m'electronics'\u001b[0m, \u001b[32m'grocery'\u001b[0m, \u001b[32m'movies'\u001b[0m, \u001b[32m'restaurants'\u001b[0m, \u001b[32m'tripadvisor'\u001b[0m\u001b[1m]\u001b[0m\n"
      ]
     },
     "metadata": {},
     "output_type": "display_data"
    }
   ],
   "source": [
    "domain = get_dataset_config_names(\"subjqa\")\n",
    "print( domain )"
   ]
  },
  {
   "cell_type": "code",
   "execution_count": 11,
   "metadata": {},
   "outputs": [
    {
     "name": "stdout",
     "output_type": "stream",
     "text": [
      "Downloading and preparing dataset subjqa/electronics (download: 10.86 MiB, generated: 3.01 MiB, post-processed: Unknown size, total: 13.86 MiB) to /home/ramiismael/.cache/huggingface/datasets/subjqa/electronics/1.1.0/e5588f9298ff2d70686a00cc377e4bdccf4e32287459e3c6baf2dc5ab57fe7fd...\n"
     ]
    },
    {
     "name": "stderr",
     "output_type": "stream",
     "text": [
      "Downloading data: 11.4MB [00:02, 4.87MB/s]\n",
      "                                                                                      \r"
     ]
    },
    {
     "name": "stdout",
     "output_type": "stream",
     "text": [
      "Dataset subjqa downloaded and prepared to /home/ramiismael/.cache/huggingface/datasets/subjqa/electronics/1.1.0/e5588f9298ff2d70686a00cc377e4bdccf4e32287459e3c6baf2dc5ab57fe7fd. Subsequent calls will reuse this data.\n"
     ]
    },
    {
     "name": "stderr",
     "output_type": "stream",
     "text": [
      "100%|██████████| 3/3 [00:00<00:00, 357.36it/s]\n"
     ]
    },
    {
     "data": {
      "text/html": [
       "<pre style=\"white-space:pre;overflow-x:auto;line-height:normal;font-family:Menlo,'DejaVu Sans Mono',consolas,'Courier New',monospace\"><span style=\"color: #800080; text-decoration-color: #800080; font-weight: bold\">DatasetDict</span><span style=\"font-weight: bold\">({</span>\n",
       "    train: <span style=\"color: #800080; text-decoration-color: #800080; font-weight: bold\">Dataset</span><span style=\"font-weight: bold\">({</span>\n",
       "        features: <span style=\"font-weight: bold\">[</span><span style=\"color: #008000; text-decoration-color: #008000\">'domain'</span>, <span style=\"color: #008000; text-decoration-color: #008000\">'nn_mod'</span>, <span style=\"color: #008000; text-decoration-color: #008000\">'nn_asp'</span>, <span style=\"color: #008000; text-decoration-color: #008000\">'query_mod'</span>, <span style=\"color: #008000; text-decoration-color: #008000\">'query_asp'</span>, <span style=\"color: #008000; text-decoration-color: #008000\">'q_reviews_id'</span>, <span style=\"color: #008000; text-decoration-color: #008000\">'question_subj_level'</span>, \n",
       "<span style=\"color: #008000; text-decoration-color: #008000\">'ques_subj_score'</span>, <span style=\"color: #008000; text-decoration-color: #008000\">'is_ques_subjective'</span>, <span style=\"color: #008000; text-decoration-color: #008000\">'review_id'</span>, <span style=\"color: #008000; text-decoration-color: #008000\">'id'</span>, <span style=\"color: #008000; text-decoration-color: #008000\">'title'</span>, <span style=\"color: #008000; text-decoration-color: #008000\">'context'</span>, <span style=\"color: #008000; text-decoration-color: #008000\">'question'</span>, <span style=\"color: #008000; text-decoration-color: #008000\">'answers'</span><span style=\"font-weight: bold\">]</span>,\n",
       "        num_rows: <span style=\"color: #008080; text-decoration-color: #008080; font-weight: bold\">1295</span>\n",
       "    <span style=\"font-weight: bold\">})</span>\n",
       "    test: <span style=\"color: #800080; text-decoration-color: #800080; font-weight: bold\">Dataset</span><span style=\"font-weight: bold\">({</span>\n",
       "        features: <span style=\"font-weight: bold\">[</span><span style=\"color: #008000; text-decoration-color: #008000\">'domain'</span>, <span style=\"color: #008000; text-decoration-color: #008000\">'nn_mod'</span>, <span style=\"color: #008000; text-decoration-color: #008000\">'nn_asp'</span>, <span style=\"color: #008000; text-decoration-color: #008000\">'query_mod'</span>, <span style=\"color: #008000; text-decoration-color: #008000\">'query_asp'</span>, <span style=\"color: #008000; text-decoration-color: #008000\">'q_reviews_id'</span>, <span style=\"color: #008000; text-decoration-color: #008000\">'question_subj_level'</span>, \n",
       "<span style=\"color: #008000; text-decoration-color: #008000\">'ques_subj_score'</span>, <span style=\"color: #008000; text-decoration-color: #008000\">'is_ques_subjective'</span>, <span style=\"color: #008000; text-decoration-color: #008000\">'review_id'</span>, <span style=\"color: #008000; text-decoration-color: #008000\">'id'</span>, <span style=\"color: #008000; text-decoration-color: #008000\">'title'</span>, <span style=\"color: #008000; text-decoration-color: #008000\">'context'</span>, <span style=\"color: #008000; text-decoration-color: #008000\">'question'</span>, <span style=\"color: #008000; text-decoration-color: #008000\">'answers'</span><span style=\"font-weight: bold\">]</span>,\n",
       "        num_rows: <span style=\"color: #008080; text-decoration-color: #008080; font-weight: bold\">358</span>\n",
       "    <span style=\"font-weight: bold\">})</span>\n",
       "    validation: <span style=\"color: #800080; text-decoration-color: #800080; font-weight: bold\">Dataset</span><span style=\"font-weight: bold\">({</span>\n",
       "        features: <span style=\"font-weight: bold\">[</span><span style=\"color: #008000; text-decoration-color: #008000\">'domain'</span>, <span style=\"color: #008000; text-decoration-color: #008000\">'nn_mod'</span>, <span style=\"color: #008000; text-decoration-color: #008000\">'nn_asp'</span>, <span style=\"color: #008000; text-decoration-color: #008000\">'query_mod'</span>, <span style=\"color: #008000; text-decoration-color: #008000\">'query_asp'</span>, <span style=\"color: #008000; text-decoration-color: #008000\">'q_reviews_id'</span>, <span style=\"color: #008000; text-decoration-color: #008000\">'question_subj_level'</span>, \n",
       "<span style=\"color: #008000; text-decoration-color: #008000\">'ques_subj_score'</span>, <span style=\"color: #008000; text-decoration-color: #008000\">'is_ques_subjective'</span>, <span style=\"color: #008000; text-decoration-color: #008000\">'review_id'</span>, <span style=\"color: #008000; text-decoration-color: #008000\">'id'</span>, <span style=\"color: #008000; text-decoration-color: #008000\">'title'</span>, <span style=\"color: #008000; text-decoration-color: #008000\">'context'</span>, <span style=\"color: #008000; text-decoration-color: #008000\">'question'</span>, <span style=\"color: #008000; text-decoration-color: #008000\">'answers'</span><span style=\"font-weight: bold\">]</span>,\n",
       "        num_rows: <span style=\"color: #008080; text-decoration-color: #008080; font-weight: bold\">255</span>\n",
       "    <span style=\"font-weight: bold\">})</span>\n",
       "<span style=\"font-weight: bold\">})</span>\n",
       "</pre>\n"
      ],
      "text/plain": [
       "\u001b[1;35mDatasetDict\u001b[0m\u001b[1m(\u001b[0m\u001b[1m{\u001b[0m\n",
       "    train: \u001b[1;35mDataset\u001b[0m\u001b[1m(\u001b[0m\u001b[1m{\u001b[0m\n",
       "        features: \u001b[1m[\u001b[0m\u001b[32m'domain'\u001b[0m, \u001b[32m'nn_mod'\u001b[0m, \u001b[32m'nn_asp'\u001b[0m, \u001b[32m'query_mod'\u001b[0m, \u001b[32m'query_asp'\u001b[0m, \u001b[32m'q_reviews_id'\u001b[0m, \u001b[32m'question_subj_level'\u001b[0m, \n",
       "\u001b[32m'ques_subj_score'\u001b[0m, \u001b[32m'is_ques_subjective'\u001b[0m, \u001b[32m'review_id'\u001b[0m, \u001b[32m'id'\u001b[0m, \u001b[32m'title'\u001b[0m, \u001b[32m'context'\u001b[0m, \u001b[32m'question'\u001b[0m, \u001b[32m'answers'\u001b[0m\u001b[1m]\u001b[0m,\n",
       "        num_rows: \u001b[1;36m1295\u001b[0m\n",
       "    \u001b[1m}\u001b[0m\u001b[1m)\u001b[0m\n",
       "    test: \u001b[1;35mDataset\u001b[0m\u001b[1m(\u001b[0m\u001b[1m{\u001b[0m\n",
       "        features: \u001b[1m[\u001b[0m\u001b[32m'domain'\u001b[0m, \u001b[32m'nn_mod'\u001b[0m, \u001b[32m'nn_asp'\u001b[0m, \u001b[32m'query_mod'\u001b[0m, \u001b[32m'query_asp'\u001b[0m, \u001b[32m'q_reviews_id'\u001b[0m, \u001b[32m'question_subj_level'\u001b[0m, \n",
       "\u001b[32m'ques_subj_score'\u001b[0m, \u001b[32m'is_ques_subjective'\u001b[0m, \u001b[32m'review_id'\u001b[0m, \u001b[32m'id'\u001b[0m, \u001b[32m'title'\u001b[0m, \u001b[32m'context'\u001b[0m, \u001b[32m'question'\u001b[0m, \u001b[32m'answers'\u001b[0m\u001b[1m]\u001b[0m,\n",
       "        num_rows: \u001b[1;36m358\u001b[0m\n",
       "    \u001b[1m}\u001b[0m\u001b[1m)\u001b[0m\n",
       "    validation: \u001b[1;35mDataset\u001b[0m\u001b[1m(\u001b[0m\u001b[1m{\u001b[0m\n",
       "        features: \u001b[1m[\u001b[0m\u001b[32m'domain'\u001b[0m, \u001b[32m'nn_mod'\u001b[0m, \u001b[32m'nn_asp'\u001b[0m, \u001b[32m'query_mod'\u001b[0m, \u001b[32m'query_asp'\u001b[0m, \u001b[32m'q_reviews_id'\u001b[0m, \u001b[32m'question_subj_level'\u001b[0m, \n",
       "\u001b[32m'ques_subj_score'\u001b[0m, \u001b[32m'is_ques_subjective'\u001b[0m, \u001b[32m'review_id'\u001b[0m, \u001b[32m'id'\u001b[0m, \u001b[32m'title'\u001b[0m, \u001b[32m'context'\u001b[0m, \u001b[32m'question'\u001b[0m, \u001b[32m'answers'\u001b[0m\u001b[1m]\u001b[0m,\n",
       "        num_rows: \u001b[1;36m255\u001b[0m\n",
       "    \u001b[1m}\u001b[0m\u001b[1m)\u001b[0m\n",
       "\u001b[1m}\u001b[0m\u001b[1m)\u001b[0m\n"
      ]
     },
     "metadata": {},
     "output_type": "display_data"
    }
   ],
   "source": [
    "from datasets import load_dataset\n",
    "\n",
    "subjqa = load_dataset(\"subjqa\" , name=\"electronics\")\n",
    "\n",
    "print( subjqa)"
   ]
  },
  {
   "cell_type": "code",
   "execution_count": 13,
   "metadata": {},
   "outputs": [
    {
     "data": {
      "text/html": [
       "<pre style=\"white-space:pre;overflow-x:auto;line-height:normal;font-family:Menlo,'DejaVu Sans Mono',consolas,'Courier New',monospace\"><span style=\"font-weight: bold\">{</span>\n",
       "    <span style=\"color: #008000; text-decoration-color: #008000\">'text'</span>: <span style=\"font-weight: bold\">[</span><span style=\"color: #008000; text-decoration-color: #008000\">'Bass is weak as expected'</span>, <span style=\"color: #008000; text-decoration-color: #008000\">'Bass is weak as expected, even with EQ adjusted up'</span><span style=\"font-weight: bold\">]</span>,\n",
       "    <span style=\"color: #008000; text-decoration-color: #008000\">'answer_start'</span>: <span style=\"font-weight: bold\">[</span><span style=\"color: #008080; text-decoration-color: #008080; font-weight: bold\">1302</span>, <span style=\"color: #008080; text-decoration-color: #008080; font-weight: bold\">1302</span><span style=\"font-weight: bold\">]</span>,\n",
       "    <span style=\"color: #008000; text-decoration-color: #008000\">'answer_subj_level'</span>: <span style=\"font-weight: bold\">[</span><span style=\"color: #008080; text-decoration-color: #008080; font-weight: bold\">1</span>, <span style=\"color: #008080; text-decoration-color: #008080; font-weight: bold\">1</span><span style=\"font-weight: bold\">]</span>,\n",
       "    <span style=\"color: #008000; text-decoration-color: #008000\">'ans_subj_score'</span>: <span style=\"font-weight: bold\">[</span><span style=\"color: #008080; text-decoration-color: #008080; font-weight: bold\">0.5083333253860474</span>, <span style=\"color: #008080; text-decoration-color: #008080; font-weight: bold\">0.5083333253860474</span><span style=\"font-weight: bold\">]</span>,\n",
       "    <span style=\"color: #008000; text-decoration-color: #008000\">'is_ans_subjective'</span>: <span style=\"font-weight: bold\">[</span><span style=\"color: #00ff00; text-decoration-color: #00ff00; font-style: italic\">True</span>, <span style=\"color: #00ff00; text-decoration-color: #00ff00; font-style: italic\">True</span><span style=\"font-weight: bold\">]</span>\n",
       "<span style=\"font-weight: bold\">}</span>\n",
       "</pre>\n"
      ],
      "text/plain": [
       "\u001b[1m{\u001b[0m\n",
       "    \u001b[32m'text'\u001b[0m: \u001b[1m[\u001b[0m\u001b[32m'Bass is weak as expected'\u001b[0m, \u001b[32m'Bass is weak as expected, even with EQ adjusted up'\u001b[0m\u001b[1m]\u001b[0m,\n",
       "    \u001b[32m'answer_start'\u001b[0m: \u001b[1m[\u001b[0m\u001b[1;36m1302\u001b[0m, \u001b[1;36m1302\u001b[0m\u001b[1m]\u001b[0m,\n",
       "    \u001b[32m'answer_subj_level'\u001b[0m: \u001b[1m[\u001b[0m\u001b[1;36m1\u001b[0m, \u001b[1;36m1\u001b[0m\u001b[1m]\u001b[0m,\n",
       "    \u001b[32m'ans_subj_score'\u001b[0m: \u001b[1m[\u001b[0m\u001b[1;36m0.5083333253860474\u001b[0m, \u001b[1;36m0.5083333253860474\u001b[0m\u001b[1m]\u001b[0m,\n",
       "    \u001b[32m'is_ans_subjective'\u001b[0m: \u001b[1m[\u001b[0m\u001b[3;92mTrue\u001b[0m, \u001b[3;92mTrue\u001b[0m\u001b[1m]\u001b[0m\n",
       "\u001b[1m}\u001b[0m\n"
      ]
     },
     "metadata": {},
     "output_type": "display_data"
    }
   ],
   "source": [
    "print( subjqa[\"train\"][\"answers\"][1] )"
   ]
  },
  {
   "cell_type": "markdown",
   "metadata": {},
   "source": [
    "# Convert the Dataset dicttionary to Pandas DataFrame"
   ]
  },
  {
   "cell_type": "code",
   "execution_count": null,
   "metadata": {},
   "outputs": [],
   "source": []
  }
 ],
 "metadata": {
  "kernelspec": {
   "display_name": "Python 3.7.13 ('QA')",
   "language": "python",
   "name": "python3"
  },
  "language_info": {
   "codemirror_mode": {
    "name": "ipython",
    "version": 3
   },
   "file_extension": ".py",
   "mimetype": "text/x-python",
   "name": "python",
   "nbconvert_exporter": "python",
   "pygments_lexer": "ipython3",
   "version": "3.7.13"
  },
  "orig_nbformat": 4,
  "vscode": {
   "interpreter": {
    "hash": "ff3d476a60b561084826d8ed8c2d8baf8d07588a0e16ee944d16eb49480525d2"
   }
  }
 },
 "nbformat": 4,
 "nbformat_minor": 2
}
